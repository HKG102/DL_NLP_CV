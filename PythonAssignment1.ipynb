{
  "nbformat": 4,
  "nbformat_minor": 0,
  "metadata": {
    "colab": {
      "name": "PythonAssignment1.ipynb",
      "provenance": []
    },
    "kernelspec": {
      "name": "python3",
      "display_name": "Python 3"
    }
  },
  "cells": [
    {
      "cell_type": "markdown",
      "metadata": {
        "id": "BsNRaJpIAxeA"
      },
      "source": [
        "# **Assignment 1**\n",
        "\n",
        "---\n",
        "\n",
        "\n",
        "\n",
        "\n",
        "\n",
        "\n",
        "\n",
        "\n"
      ]
    },
    {
      "cell_type": "markdown",
      "metadata": {
        "id": "BACud3exBIq-"
      },
      "source": [
        "1. Write a program which will find all such numbers which are divisible by 7 but are not a multiple of 5, between 2000 and 3200 (both included). The numbers obtained should be printed in a comma-separated sequence on a single line."
      ]
    },
    {
      "cell_type": "code",
      "metadata": {
        "colab": {
          "base_uri": "https://localhost:8080/"
        },
        "id": "e2YkDJGsC8KK",
        "outputId": "f9a7b6c9-462f-426a-9aa9-89e6eea3704c"
      },
      "source": [
        "for i in range (2000,3001):\n",
        "  if (i%7 == 0) and (i%5 != 0):\n",
        "    print(i,sep=',',end=' ')"
      ],
      "execution_count": 1,
      "outputs": [
        {
          "output_type": "stream",
          "text": [
            "2002 2009 2016 2023 2037 2044 2051 2058 2072 2079 2086 2093 2107 2114 2121 2128 2142 2149 2156 2163 2177 2184 2191 2198 2212 2219 2226 2233 2247 2254 2261 2268 2282 2289 2296 2303 2317 2324 2331 2338 2352 2359 2366 2373 2387 2394 2401 2408 2422 2429 2436 2443 2457 2464 2471 2478 2492 2499 2506 2513 2527 2534 2541 2548 2562 2569 2576 2583 2597 2604 2611 2618 2632 2639 2646 2653 2667 2674 2681 2688 2702 2709 2716 2723 2737 2744 2751 2758 2772 2779 2786 2793 2807 2814 2821 2828 2842 2849 2856 2863 2877 2884 2891 2898 2912 2919 2926 2933 2947 2954 2961 2968 2982 2989 2996 "
          ],
          "name": "stdout"
        }
      ]
    },
    {
      "cell_type": "markdown",
      "metadata": {
        "id": "vzr8nkNoBpH8"
      },
      "source": [
        "2. Write a Python program to accept the user's first and last name and then getting them printed in the the reverse order with a space between first name and last name.\n"
      ]
    },
    {
      "cell_type": "code",
      "metadata": {
        "colab": {
          "base_uri": "https://localhost:8080/"
        },
        "id": "Z41TZegVD66q",
        "outputId": "65552ad3-fdd9-4bc5-fc7b-97638ba05d4a"
      },
      "source": [
        "fname = input('Enter your First name : ')\n",
        "lname = input('Enter your Last name : ')\n",
        "\n",
        "def reverseF(x):\n",
        "  return x[::-1]\n",
        "\n",
        "rfname = reverseF(fname)\n",
        "rlname = reverseF(lname)\n",
        "\n",
        "print(rfname + ' ' + rlname )"
      ],
      "execution_count": 3,
      "outputs": [
        {
          "output_type": "stream",
          "text": [
            "Enter your First name : Hari\n",
            "Enter your Last name : Gupta\n",
            "iraH atpuG\n"
          ],
          "name": "stdout"
        }
      ]
    },
    {
      "cell_type": "markdown",
      "metadata": {
        "id": "ixKEHaLEBorI"
      },
      "source": [
        "3. Write a Python program to find the volume of a sphere with diameter 12 cm.\n",
        "Formula: V=4/3 * π * r 3\n"
      ]
    },
    {
      "cell_type": "code",
      "metadata": {
        "colab": {
          "base_uri": "https://localhost:8080/"
        },
        "id": "pPqU767EFnqm",
        "outputId": "93b1f02e-e81f-4068-bfb2-a87bd073861e"
      },
      "source": [
        "d = 12\n",
        "r = d/2\n",
        "volume = (4/3)*3.14*r*r*r\n",
        "print('Volume of sphere with diameter 12 is : ',volume)"
      ],
      "execution_count": 5,
      "outputs": [
        {
          "output_type": "stream",
          "text": [
            "Volume of sphere with diameter 12 is :  904.3199999999998\n"
          ],
          "name": "stdout"
        }
      ]
    }
  ]
}