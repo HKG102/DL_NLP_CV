{
  "nbformat": 4,
  "nbformat_minor": 0,
  "metadata": {
    "colab": {
      "name": "PythonAssignment3.ipynb",
      "provenance": []
    },
    "kernelspec": {
      "name": "python3",
      "display_name": "Python 3"
    }
  },
  "cells": [
    {
      "cell_type": "markdown",
      "metadata": {
        "id": "BsNRaJpIAxeA"
      },
      "source": [
        "# **Assignment 3**\n",
        "\n",
        "---\n",
        "\n",
        "\n",
        "\n",
        "\n",
        "\n",
        "\n",
        "\n",
        "\n"
      ]
    },
    {
      "cell_type": "markdown",
      "metadata": {
        "id": "giOzx1lmwbA_"
      },
      "source": [
        "1.1 Write a Python Program to implement your own myreduce() function which works exactly\n",
        "like Python's built-in function reduce()\n",
        "\n"
      ]
    },
    {
      "cell_type": "code",
      "metadata": {
        "colab": {
          "base_uri": "https://localhost:8080/"
        },
        "id": "hnu02Ydj5VGn",
        "outputId": "84889820-ed98-47e1-85da-85661e5d3cf4"
      },
      "source": [
        "from functools import reduce \n",
        "\n",
        "my_numbers = [4, 6, 9, 23, 5]\n",
        "\n",
        "reduce_result = reduce(lambda num1, num2: num1 * num2, my_numbers)\n",
        "\n",
        "print(reduce_result)\n",
        "\n",
        "#\n",
        "\n",
        "def myreduce(my_num):\n",
        "  result = 1\n",
        "  for i in my_num:\n",
        "    result = result * i\n",
        "  \n",
        "  return result\n",
        "\n",
        "print(myreduce(my_numbers))\n"
      ],
      "execution_count": 1,
      "outputs": [
        {
          "output_type": "stream",
          "text": [
            "24840\n",
            "24840\n"
          ],
          "name": "stdout"
        }
      ]
    },
    {
      "cell_type": "markdown",
      "metadata": {
        "id": "oW3WXYC9whI1"
      },
      "source": [
        "1.2 Write a Python program to implement your own myfilter() function which works exactly\n",
        "like Python's built-in function filter()\n",
        "\n"
      ]
    },
    {
      "cell_type": "code",
      "metadata": {
        "colab": {
          "base_uri": "https://localhost:8080/"
        },
        "id": "2enYlY_J7ZNx",
        "outputId": "8cdb4378-1e50-47e5-c184-c18628e75e2d"
      },
      "source": [
        "scores = [66, 90, 68, 59, 76, 60, 88, 74, 81, 65]\n",
        "\n",
        "def is_A_student(score):\n",
        "    return score > 75\n",
        "\n",
        "over_75 = list(filter(is_A_student, scores))\n",
        "\n",
        "print(over_75)\n",
        "\n",
        "over_70 = []\n",
        "def myfilter(scores):\n",
        "  for i in scores :\n",
        "    if i > 70 :\n",
        "     \n",
        "      over_70.append(i)\n",
        "\n",
        "myfilter(scores)\n",
        "print(over_70)"
      ],
      "execution_count": 2,
      "outputs": [
        {
          "output_type": "stream",
          "text": [
            "[90, 76, 88, 81]\n",
            "[90, 76, 88, 74, 81]\n"
          ],
          "name": "stdout"
        }
      ]
    },
    {
      "cell_type": "markdown",
      "metadata": {
        "id": "NcDQWeIjwkV2"
      },
      "source": [
        "2. \n",
        "Implement List comprehensions to produce the following lists.\n",
        "Write List comprehensions to produce the following Lists\n",
        "['A', 'C', 'A', 'D', 'G', 'I', ’L’, ‘ D’]\n",
        "['x', 'xx', 'xxx', 'xxxx', 'y', 'yy', 'yyy', 'yyyy', 'z', 'zz', 'zzz', 'zzzz']\n",
        "['x', 'y', 'z', 'xx', 'yy', 'zz', 'xxx', 'yyy', 'zzz', 'xxxx', 'yyyy', 'zzzz']\n",
        "[[2], [3], [4], [3], [4], [5], [4], [5], [6]]\n",
        "[[2, 3, 4, 5], [3, 4, 5, 6], [4, 5, 6, 7], [5, 6, 7, 8]]\n",
        "[(1, 1), (2, 1), (3, 1), (1, 2), (2, 2), (3, 2), (1, 3), (2, 3), (3, 3)]\n"
      ]
    },
    {
      "cell_type": "code",
      "metadata": {
        "colab": {
          "base_uri": "https://localhost:8080/"
        },
        "id": "46pws49bwSUI",
        "outputId": "bfe0a7d2-7257-4891-a08b-ca6da740faea"
      },
      "source": [
        "word = \"ACADGILD\"\n",
        "output1 = [ alphabet for alphabet in word ]\n",
        "print(output1)\n",
        "\n",
        "\n",
        "input_list1 = ['x','y','z']\n",
        "result1 = [ item*num for item in input_list1 for num in range(1,5)  ]\n",
        "print(result1)\n",
        "\n",
        "\n",
        "\n",
        "result2 = [ item*num for num in range(1,5) for item in input_list1  ]\n",
        "print(result2)\n",
        "\n",
        "\n",
        "input_list2 = [2,3,4]\n",
        "result3 = [ [item+num] for item in input_list2 for num in range(0,3)]\n",
        "print(result3)\n",
        "\n",
        "\n",
        "input_list3 = [2,3,4,5]\n",
        "result4 = [ [item+num for item in input_list3] for num in range(0,4)  ]\n",
        "print(result4)\n",
        "\n",
        "\n",
        "input_list4=[1,2,3]\n",
        "result5 = [ (b,a) for a in input_list4 for b in input_list4]\n",
        "print(result5)\n",
        "\n"
      ],
      "execution_count": 4,
      "outputs": [
        {
          "output_type": "stream",
          "text": [
            "['A', 'C', 'A', 'D', 'G', 'I', 'L', 'D']\n",
            "['x', 'xx', 'xxx', 'xxxx', 'y', 'yy', 'yyy', 'yyyy', 'z', 'zz', 'zzz', 'zzzz']\n",
            "['x', 'y', 'z', 'xx', 'yy', 'zz', 'xxx', 'yyy', 'zzz', 'xxxx', 'yyyy', 'zzzz']\n",
            "[[2], [3], [4], [3], [4], [5], [4], [5], [6]]\n",
            "[[2, 3, 4, 5], [3, 4, 5, 6], [4, 5, 6, 7], [5, 6, 7, 8]]\n",
            "[(1, 1), (2, 1), (3, 1), (1, 2), (2, 2), (3, 2), (1, 3), (2, 3), (3, 3)]\n"
          ],
          "name": "stdout"
        }
      ]
    },
    {
      "cell_type": "code",
      "metadata": {
        "id": "mJGsraWTJbtG"
      },
      "source": [
        ""
      ],
      "execution_count": 3,
      "outputs": []
    }
  ]
}