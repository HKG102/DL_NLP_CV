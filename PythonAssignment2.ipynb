{
  "nbformat": 4,
  "nbformat_minor": 0,
  "metadata": {
    "colab": {
      "name": "PythonAssignment2.ipynb",
      "provenance": []
    },
    "kernelspec": {
      "name": "python3",
      "display_name": "Python 3"
    }
  },
  "cells": [
    {
      "cell_type": "markdown",
      "metadata": {
        "id": "P5IyzztKqajl"
      },
      "source": [
        "# **Assignment 2**\n"
      ]
    },
    {
      "cell_type": "markdown",
      "metadata": {
        "id": "4LSUBJm5qlKF"
      },
      "source": [
        "1. Create the below pattern using nested for loop in Python.\n",
        "1\n",
        "11\n",
        "111\n",
        "1111\n",
        "11111\n",
        "1111\n",
        "111\n",
        "11\n",
        "1"
      ]
    },
    {
      "cell_type": "code",
      "metadata": {
        "colab": {
          "base_uri": "https://localhost:8080/"
        },
        "id": "5acDO-uOskmo",
        "outputId": "5b4b1513-83f3-4ca3-c526-e76da2daedc7"
      },
      "source": [
        "n=5\n",
        "count = (2*n)\n",
        "for i in range(count) :\n",
        "  if i <= n:\n",
        "    for j in range(0,i) :\n",
        "      print('*',end=' ')\n",
        "  else:\n",
        "    for k in range(i,2*n):\n",
        "      print('*',end=' ')\n",
        "  print(end='\\n')"
      ],
      "execution_count": 11,
      "outputs": [
        {
          "output_type": "stream",
          "text": [
            "\n",
            "* \n",
            "* * \n",
            "* * * \n",
            "* * * * \n",
            "* * * * * \n",
            "* * * * \n",
            "* * * \n",
            "* * \n",
            "* \n"
          ],
          "name": "stdout"
        }
      ]
    },
    {
      "cell_type": "markdown",
      "metadata": {
        "id": "2sOfkWq8sQhl"
      },
      "source": [
        "2. Write a Python program to reverse a word after accepting the input from the user.\n",
        "\n",
        "  Input word: ineuron\n",
        "  Output: norueni"
      ]
    },
    {
      "cell_type": "code",
      "metadata": {
        "id": "nuFbE2bCqjKW",
        "colab": {
          "base_uri": "https://localhost:8080/"
        },
        "outputId": "6c7654f2-a59f-47cf-c89c-5a3af4b31165"
      },
      "source": [
        "str1 = input('Enter any word:')\n",
        "print(str1[::-1])"
      ],
      "execution_count": 12,
      "outputs": [
        {
          "output_type": "stream",
          "text": [
            "Enter any word:hello\n",
            "olleh\n"
          ],
          "name": "stdout"
        }
      ]
    }
  ]
}