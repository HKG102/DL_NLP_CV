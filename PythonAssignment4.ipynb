{
  "nbformat": 4,
  "nbformat_minor": 0,
  "metadata": {
    "colab": {
      "name": "PythonAssignment4.ipynb",
      "provenance": []
    },
    "kernelspec": {
      "name": "python3",
      "display_name": "Python 3"
    }
  },
  "cells": [
    {
      "cell_type": "markdown",
      "metadata": {
        "id": "BsNRaJpIAxeA"
      },
      "source": [
        "# **Assignment 4**\n",
        "\n",
        "---\n",
        "\n",
        "\n",
        "\n",
        "\n",
        "\n",
        "\n",
        "\n",
        "\n"
      ]
    },
    {
      "cell_type": "markdown",
      "metadata": {
        "id": "giOzx1lmwbA_"
      },
      "source": [
        "1.1 Write a Python Program(with class concepts) to find the area of the triangle using the below\n",
        "formula.\n",
        "area = (s*(s-a)*(s-b)*(s-c)) ** 0.5\n",
        "Function to take the length of the sides of triangle from user should be defined in the parent\n",
        "class and function to calculate the area should be defined in subclass.\n",
        "\n",
        "\n",
        "\n"
      ]
    },
    {
      "cell_type": "code",
      "metadata": {
        "colab": {
          "base_uri": "https://localhost:8080/"
        },
        "id": "hnu02Ydj5VGn",
        "outputId": "b35324a3-c8b5-49ba-ac7c-3816a05877c7"
      },
      "source": [
        "\n",
        "class Triangle :\n",
        "  def __init__(self, a, b, c):\n",
        "    self.a = a\n",
        "    self.b = b\n",
        "    self.c = c\n",
        "    print(\"Side of triangle are :\" + str(self.a) + \",\"+ str(self.b) + \",\"+ str(self.c) )\n",
        "\n",
        "class TriangleInstance(Triangle):\n",
        "  def __init__(self, a, b, c):\n",
        "    super(TriangleInstance, self).__init__(a, b, c)\n",
        "  \n",
        "  def getArea(self):\n",
        "    s = (self.a + self.b + self.c)/2\n",
        "    return (s*(s-self.a)*(s-self.b)*(s-self.c))**0.5\n",
        "  \n",
        "area = TriangleInstance(3,4,5)\n",
        "print(\"Area of Triangle : \" + str(area.getArea()))\n",
        "\n"
      ],
      "execution_count": 21,
      "outputs": [
        {
          "output_type": "stream",
          "text": [
            "Side of triangle are :3,4,5\n",
            "Area of Triangle : 6.0\n"
          ],
          "name": "stdout"
        }
      ]
    },
    {
      "cell_type": "markdown",
      "metadata": {
        "id": "oW3WXYC9whI1"
      },
      "source": [
        "1.2 Write a function filter_long_words() that takes a list of words and an integer n and returns\n",
        "the list of words that are longer than n.\n",
        "\n",
        "\n"
      ]
    },
    {
      "cell_type": "code",
      "metadata": {
        "colab": {
          "base_uri": "https://localhost:8080/"
        },
        "id": "2enYlY_J7ZNx",
        "outputId": "c6b0b78d-a941-4984-8e4a-6bb002726bd9"
      },
      "source": [
        "class Word_List:\n",
        " def __init__(self, wordlist):\n",
        "  self.wordlist = wordlist\n",
        "  \n",
        "\n",
        " def filter_long_words(self, n):\n",
        "  return list(filter(lambda x:len(x) > n, self.wordlist))\n",
        "\n",
        "instance = Word_List([\"Hello\",\"welcome\",\"to\",\"world\",\"of\",\"Data\", \"Science\"])\n",
        "print (\"List of Words  => \" + str(instance.filter_long_words(4)) ) "
      ],
      "execution_count": 22,
      "outputs": [
        {
          "output_type": "stream",
          "text": [
            "List of Words  => ['Hello', 'welcome', 'world', 'Science']\n"
          ],
          "name": "stdout"
        }
      ]
    },
    {
      "cell_type": "markdown",
      "metadata": {
        "id": "NcDQWeIjwkV2"
      },
      "source": [
        "2.1 Write a Python program using function concept that maps list of words into a list of integers\n",
        "representing the lengths of the corresponding words.\n",
        "Hint: If a list [ ab,cde,erty] is passed on to the python function output should come as [2,3,4]\n",
        "Here 2,3 and 4 are the lengths of the words in the list.\n"
      ]
    },
    {
      "cell_type": "code",
      "metadata": {
        "colab": {
          "base_uri": "https://localhost:8080/"
        },
        "id": "46pws49bwSUI",
        "outputId": "515bf689-d513-433e-d996-57507358b7b0"
      },
      "source": [
        "lst = [\"ab\",\"cde\",\"xcvb\",\"dfghjh\"]\n",
        "lst_len = []\n",
        "def list_length(lst):\n",
        "  for i in lst:\n",
        "    print(i)\n",
        "    lst_len.append(len(i))\n",
        "\n",
        "list_length(lst)\n",
        "print(lst_len)"
      ],
      "execution_count": 23,
      "outputs": [
        {
          "output_type": "stream",
          "text": [
            "ab\n",
            "cde\n",
            "xcvb\n",
            "dfghjh\n",
            "[2, 3, 4, 6]\n"
          ],
          "name": "stdout"
        }
      ]
    },
    {
      "cell_type": "markdown",
      "metadata": {
        "id": "USsS8ESi6Jkf"
      },
      "source": [
        "2.2 Write a Python function which takes a character (i.e. a string of length 1) and returns True if\n",
        "it is a vowel, False otherwise."
      ]
    },
    {
      "cell_type": "code",
      "metadata": {
        "id": "mJGsraWTJbtG",
        "colab": {
          "base_uri": "https://localhost:8080/"
        },
        "outputId": "83178c1e-a175-4708-c75c-b0874c48a54a"
      },
      "source": [
        "def CheckVowel(str):\n",
        "  if str == 'A' or str == 'a' or str == 'E' or str == 'e' or str == 'I' or str == 'i' or str == 'O' or str == 'o' or str == 'U' or str == 'o' :\n",
        "    return True\n",
        "  else :\n",
        "    return False\n",
        "\n",
        "print(CheckVowel(\"U\"))\n",
        "print(CheckVowel(\"c\"))\n"
      ],
      "execution_count": 24,
      "outputs": [
        {
          "output_type": "stream",
          "text": [
            "True\n",
            "False\n"
          ],
          "name": "stdout"
        }
      ]
    }
  ]
}